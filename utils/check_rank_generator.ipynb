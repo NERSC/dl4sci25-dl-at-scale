{
 "cells": [
  {
   "cell_type": "code",
   "execution_count": null,
   "id": "e9b95e95-3be0-49ea-ba2b-557c12dfdd70",
   "metadata": {
    "tags": []
   },
   "outputs": [],
   "source": [
    "from rank_generator import RankGenerator\n",
    "import pprint"
   ]
  },
  {
   "cell_type": "code",
   "execution_count": null,
   "id": "22e66d4c-5902-42ff-96dc-1194ce64dc55",
   "metadata": {
    "tags": []
   },
   "outputs": [],
   "source": [
    "rg = RankGenerator(\n",
    "        tp=4,\n",
    "        dp=8,\n",
    "        pp=1,\n",
    "        cp=1,\n",
    "        order='tp-cp-pp-dp',\n",
    "    )\n",
    "print(\"\\ntensor parallel groups are:\")\n",
    "pprint.pprint(rg.get_ranks('tp'))\n",
    "print(\"\\ndata parallel groups are:\")\n",
    "pprint.pprint(rg.get_ranks('dp'))"
   ]
  },
  {
   "cell_type": "code",
   "execution_count": null,
   "id": "99f3fb0f-4705-4931-8250-9a12523633a0",
   "metadata": {},
   "outputs": [],
   "source": []
  }
 ],
 "metadata": {
  "kernelspec": {
   "display_name": "pytorch-2.6.0",
   "language": "python",
   "name": "pytorch-2.6.0"
  },
  "language_info": {
   "codemirror_mode": {
    "name": "ipython",
    "version": 3
   },
   "file_extension": ".py",
   "mimetype": "text/x-python",
   "name": "python",
   "nbconvert_exporter": "python",
   "pygments_lexer": "ipython3",
   "version": "3.12.9"
  }
 },
 "nbformat": 4,
 "nbformat_minor": 5
}
